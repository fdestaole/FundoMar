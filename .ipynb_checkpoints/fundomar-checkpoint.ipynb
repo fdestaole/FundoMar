{
 "cells": [
  {
   "cell_type": "markdown",
   "metadata": {},
   "source": [
    "# Trabalho I Computação gráfica"
   ]
  },
  {
   "cell_type": "markdown",
   "metadata": {},
   "source": [
    "## Alunos\n",
    "### Felipe Destaole\n",
    "### João Pedro Farjoun Silva"
   ]
  },
  {
   "cell_type": "code",
   "execution_count": 1,
   "metadata": {},
   "outputs": [],
   "source": [
    "# !pip install glfw\n",
    "# !pip install pyopengl\n"
   ]
  },
  {
   "cell_type": "markdown",
   "metadata": {},
   "source": [
    "### Primeiro, vamos importar as bibliotecas necessárias.\n",
    "Verifique no código anterior um script para instalar as dependências necessárias (OpenGL e GLFW) antes de prosseguir."
   ]
  },
  {
   "cell_type": "code",
   "execution_count": 2,
   "metadata": {},
   "outputs": [],
   "source": [
    "import glfw\n",
    "from OpenGL.GL import *\n",
    "import OpenGL.GL.shaders\n",
    "import numpy as np\n",
    "import math"
   ]
  },
  {
   "cell_type": "markdown",
   "metadata": {},
   "source": [
    "### Inicializando janela"
   ]
  },
  {
   "cell_type": "code",
   "execution_count": 3,
   "metadata": {},
   "outputs": [],
   "source": [
    "glfw.init()\n",
    "glfw.window_hint(glfw.VISIBLE, glfw.FALSE);\n",
    "window = glfw.create_window(800, 800, \"Fundo do mar\", None, None)\n",
    "glfw.make_context_current(window)"
   ]
  },
  {
   "cell_type": "markdown",
   "metadata": {},
   "source": [
    "### GLSL (OpenGL Shading Language)\n",
    "\n",
    "Aqui veremos nosso primeiro código GLSL.\n",
    "\n",
    "É uma linguagem de shading de alto nível baseada na linguagem de programação C.\n",
    "\n",
    "Nós estamos escrevendo código GLSL como se \"strings\" de uma variável (mas podemos ler de arquivos texto). Esse código, depois, terá que ser compilado e linkado ao nosso programa. \n",
    "\n",
    "Iremos aprender GLSL conforme a necessidade do curso. Usarmos uma versão do GLSL mais antiga, compatível com muitos dispositivos."
   ]
  },
  {
   "cell_type": "markdown",
   "metadata": {},
   "source": [
    "### GLSL para Vertex Shader\n",
    "\n",
    "No Pipeline programável, podemos interagir com Vertex Shaders.\n",
    "\n",
    "No código abaixo, estamos fazendo o seguinte:\n",
    "\n",
    "* Definindo uma variável chamada position do tipo vec2.\n",
    "* Definindo uma variável chamada mat_transformation do tipo mat4 (matriz 4x4).\n",
    "* Usamos vec2, pois nosso programa (na CPU) irá enviar apenas duas coordenadas para plotar um ponto. Podemos mandar três coordenadas (vec3) e até mesmo quatro coordenadas (vec4).\n",
    "* void main() é o ponto de entrada do nosso programa (função principal)\n",
    "* gl_Position é uma variável especial do GLSL. Variáveis que começam com 'gl_' são desse tipo. Nesse caso, determina a posição de um vértice. Observe que todo vértice tem 4 coordenadas, por isso nós combinamos nossa variável vec2 com uma variável vec4. Além disso, nós modificamos nosso vetor com base em uma matriz de transformação, conforme estudado na Aula05."
   ]
  },
  {
   "cell_type": "code",
   "execution_count": 4,
   "metadata": {},
   "outputs": [],
   "source": [
    "vertex_code = \"\"\"\n",
    "        attribute vec2 position;\n",
    "        uniform mat4 mat_transformation;\n",
    "        void main(){\n",
    "            gl_Position = mat_transformation * vec4(position,0.0,1.0);\n",
    "        }\n",
    "        \"\"\""
   ]
  },
  {
   "cell_type": "markdown",
   "metadata": {},
   "source": [
    "### GLSL para Fragment Shader\n",
    "\n",
    "No Pipeline programável, podemos interagir com Fragment Shaders.\n",
    "\n",
    "No código abaixo, estamos fazendo o seguinte:\n",
    "\n",
    "* void main() é o ponto de entrada do nosso programa (função principal)\n",
    "* gl_FragColor é uma variável especial do GLSL. Variáveis que começam com 'gl_' são desse tipo. Nesse caso, determina a cor de um fragmento. Nesse caso é um ponto, mas poderia ser outro objeto (ponto, linha, triangulos, etc)."
   ]
  },
  {
   "cell_type": "markdown",
   "metadata": {},
   "source": [
    "### Possibilitando modificar a cor.\n",
    "\n",
    "Nos exemplos anteriores, a variável gl_FragColor estava definida de forma fixa (com cor R=0, G=0, B=0).\n",
    "\n",
    "Agora, nós vamos criar uma variável do tipo \"uniform\", de quatro posições (vec4), para receber o dado de cor do nosso programa rodando em CPU."
   ]
  },
  {
   "cell_type": "code",
   "execution_count": 5,
   "metadata": {},
   "outputs": [],
   "source": [
    "fragment_code = \"\"\"\n",
    "        uniform vec4 color;\n",
    "        void main(){\n",
    "            gl_FragColor = color;\n",
    "        }\n",
    "        \"\"\""
   ]
  },
  {
   "cell_type": "markdown",
   "metadata": {},
   "source": [
    "### Requisitando slot para a GPU para nossos programas Vertex e Fragment Shaders"
   ]
  },
  {
   "cell_type": "code",
   "execution_count": 6,
   "metadata": {},
   "outputs": [],
   "source": [
    "# Request a program and shader slots from GPU\n",
    "program  = glCreateProgram()\n",
    "vertex   = glCreateShader(GL_VERTEX_SHADER)\n",
    "fragment = glCreateShader(GL_FRAGMENT_SHADER)\n"
   ]
  },
  {
   "cell_type": "markdown",
   "metadata": {},
   "source": [
    "### Associando nosso código-fonte aos slots solicitados"
   ]
  },
  {
   "cell_type": "code",
   "execution_count": 7,
   "metadata": {},
   "outputs": [],
   "source": [
    "# Set shaders source\n",
    "glShaderSource(vertex, vertex_code)\n",
    "glShaderSource(fragment, fragment_code)"
   ]
  },
  {
   "cell_type": "markdown",
   "metadata": {},
   "source": [
    "### Compilando o Vertex Shader\n",
    "\n",
    "Se há algum erro em nosso programa Vertex Shader, nosso app para por aqui."
   ]
  },
  {
   "cell_type": "code",
   "execution_count": 8,
   "metadata": {},
   "outputs": [],
   "source": [
    "# Compile shaders\n",
    "glCompileShader(vertex)\n",
    "if not glGetShaderiv(vertex, GL_COMPILE_STATUS):\n",
    "    error = glGetShaderInfoLog(vertex).decode()\n",
    "    print(error)\n",
    "    raise RuntimeError(\"Erro de compilacao do Vertex Shader\")\n"
   ]
  },
  {
   "cell_type": "markdown",
   "metadata": {},
   "source": [
    "### Compilando o Fragment Shader\n",
    "\n",
    "Se há algum erro em nosso programa Fragment Shader, nosso app para por aqui."
   ]
  },
  {
   "cell_type": "code",
   "execution_count": 9,
   "metadata": {},
   "outputs": [],
   "source": [
    "glCompileShader(fragment)\n",
    "if not glGetShaderiv(fragment, GL_COMPILE_STATUS):\n",
    "    error = glGetShaderInfoLog(fragment).decode()\n",
    "    print(error)\n",
    "    raise RuntimeError(\"Erro de compilacao do Fragment Shader\")"
   ]
  },
  {
   "cell_type": "markdown",
   "metadata": {},
   "source": [
    "### Associando os programas compilado ao programa principal"
   ]
  },
  {
   "cell_type": "code",
   "execution_count": 10,
   "metadata": {},
   "outputs": [],
   "source": [
    "# Attach shader objects to the program\n",
    "glAttachShader(program, vertex)\n",
    "glAttachShader(program, fragment)\n"
   ]
  },
  {
   "cell_type": "markdown",
   "metadata": {},
   "source": [
    "### Linkagem do programa"
   ]
  },
  {
   "cell_type": "code",
   "execution_count": 11,
   "metadata": {},
   "outputs": [],
   "source": [
    "# Build program\n",
    "glLinkProgram(program)\n",
    "if not glGetProgramiv(program, GL_LINK_STATUS):\n",
    "    print(glGetProgramInfoLog(program))\n",
    "    raise RuntimeError('Linking error')\n",
    "    \n",
    "# Make program the default program\n",
    "glUseProgram(program)"
   ]
  },
  {
   "cell_type": "markdown",
   "metadata": {},
   "source": [
    "### Preparando dados para enviar a GPU\n",
    "\n",
    "Nesse momento, nós compilamos nossos Vertex e Program Shaders para que a GPU possa processá-los.\n",
    "\n",
    "Por outro lado, as informações de vértices geralmente estão na CPU e devem ser transmitidas para a GPU.\n"
   ]
  },
  {
   "cell_type": "code",
   "execution_count": 12,
   "metadata": {},
   "outputs": [],
   "source": [
    "vertices_estrela_do_mar = []\n",
    "\n",
    "vertices_estrela_do_mar = [\n",
    "    # Centro da estrela do mar\n",
    "    [0.0, 0.0],\n",
    "    \n",
    "    # Braço 1\n",
    "    [0.0, 0.0], [0.2, 0.8], [0.0, 0.6], [-0.2, 0.8],\n",
    "    \n",
    "    # Braço 2\n",
    "    [0.0, 0.0], [-0.2, 0.8], [-0.4, 0.6], [-0.2, 0.2],\n",
    "    \n",
    "    # Braço 3\n",
    "    [0.0, 0.0], [-0.2, 0.2], [-0.2, -0.2], [0.0, -0.4],\n",
    "    \n",
    "    # Braço 4\n",
    "    [0.0, 0.0], [0.0, -0.4], [0.2, -0.2], [0.2, 0.2],\n",
    "    \n",
    "    # Braço 5\n",
    "    [0.0, 0.0], [0.2, 0.2], [0.4, 0.6], [0.2, 0.8],\n",
    "]"
   ]
  },
  {
   "cell_type": "code",
   "execution_count": 13,
   "metadata": {},
   "outputs": [],
   "source": [
    "vertices_tubarao = []\n",
    "\n",
    "vertices_tubarao = [\n",
    "    # Corpo do tubarão\n",
    "    [-0.6, -0.2], [-0.4, 0.0], [-0.5, 0.2],  # Triângulo 1 (corpo superior)\n",
    "    [-0.6, -0.2], [-0.5, 0.2], [-0.3, -0.1], # Triângulo 2 (corpo inferior)\n",
    "    \n",
    "    # Nadadeira dorsal\n",
    "    [-0.4, 0.0], [-0.2, 0.3], [-0.1, 0.0],   # Triângulo 3 (nadadeira dorsal)\n",
    "    \n",
    "    # Cauda\n",
    "    [-0.7, -0.2], [-0.8, -0.1], [-0.75, -0.3], # Triângulo 4 (cauda superior)\n",
    "    [-0.7, -0.2], [-0.75, -0.3], [-0.8, -0.4], # Triângulo 5 (cauda inferior)\n",
    "    \n",
    "    # Nadadeiras laterais\n",
    "    [-0.4, -0.15], [-0.2, -0.3], [0.0, -0.15], # Triângulo 6 (nadadeira esquerda)\n",
    "    [-0.4, -0.15], [-0.2, -0.3], [-0.5, -0.35],# Triângulo 7 (nadadeira direita)\n",
    "]"
   ]
  },
  {
   "cell_type": "code",
   "execution_count": 14,
   "metadata": {},
   "outputs": [],
   "source": [
    "vertice_ceu = []\n",
    "\n",
    "vertice_ceu = [\n",
    "    [+2.0, -0.5],\n",
    "    [+2.0, +0.5],\n",
    "    [-2.0, -0.5],\n",
    "    [-2.0, +0.5],\n",
    "]"
   ]
  },
  {
   "cell_type": "code",
   "execution_count": 15,
   "metadata": {},
   "outputs": [],
   "source": [
    "vertices_sol = []\n",
    "\n",
    "num_vertices = 64  # pontos para formar o círculo\n",
    "pi = 3.14\n",
    "raio = 0.1\n",
    "angulo = 0.0\n",
    "\n",
    "for i in range(num_vertices):\n",
    "    angulo += 2 * pi / num_vertices  # pega angulo do próximo ponto\n",
    "\n",
    "    # constrói círculo inteiro\n",
    "    x = math.cos(angulo) * raio\n",
    "    y = math.sin(angulo) * raio\n",
    "    vertices_sol.append([x, y])\n",
    "\n"
   ]
  },
  {
   "cell_type": "code",
   "execution_count": 16,
   "metadata": {},
   "outputs": [],
   "source": [
    "obj_vert = []\n",
    "\n",
    "\n",
    "obj_vert.append(vertice_ceu)\n",
    "obj_vert.append(vertices_sol)\n",
    "obj_vert.append(vertices_estrela_do_mar)\n",
    "obj_vert.append(vertices_tubarao)\n",
    "\n",
    "obj_vert = np.concatenate(obj_vert)"
   ]
  },
  {
   "cell_type": "code",
   "execution_count": 17,
   "metadata": {},
   "outputs": [],
   "source": [
    "vertices = np.zeros(obj_vert.shape[0], [(\"position\", np.float32, 2)])"
   ]
  },
  {
   "cell_type": "code",
   "execution_count": 18,
   "metadata": {},
   "outputs": [],
   "source": [
    "vertices['position'] = obj_vert"
   ]
  },
  {
   "cell_type": "markdown",
   "metadata": {},
   "source": [
    "### Para enviar nossos dados da CPU para a GPU, precisamos requisitar um slot."
   ]
  },
  {
   "cell_type": "code",
   "execution_count": 19,
   "metadata": {},
   "outputs": [],
   "source": [
    "# Request a buffer slot from GPU\n",
    "buffer = glGenBuffers(1)\n",
    "# Make this buffer the default one\n",
    "glBindBuffer(GL_ARRAY_BUFFER, buffer)\n"
   ]
  },
  {
   "cell_type": "markdown",
   "metadata": {},
   "source": [
    "### Abaixo, nós enviamos todo o conteúdo da variável vertices.\n",
    "\n",
    "Veja os parâmetros da função glBufferData [https://www.khronos.org/registry/OpenGL-Refpages/gl4/html/glBufferData.xhtml]"
   ]
  },
  {
   "cell_type": "code",
   "execution_count": 20,
   "metadata": {},
   "outputs": [],
   "source": [
    "# Upload data\n",
    "glBufferData(GL_ARRAY_BUFFER, vertices.nbytes, vertices, GL_DYNAMIC_DRAW)\n",
    "glBindBuffer(GL_ARRAY_BUFFER, buffer)"
   ]
  },
  {
   "cell_type": "markdown",
   "metadata": {},
   "source": [
    "### Associando variáveis do programa GLSL (Vertex Shaders) com nossos dados\n",
    "\n",
    "Primeiro, definimos o byte inicial e o offset dos dados."
   ]
  },
  {
   "cell_type": "code",
   "execution_count": 21,
   "metadata": {},
   "outputs": [],
   "source": [
    "# Bind the position attribute\n",
    "# --------------------------------------\n",
    "stride = vertices.strides[0]\n",
    "offset = ctypes.c_void_p(0)\n"
   ]
  },
  {
   "cell_type": "markdown",
   "metadata": {},
   "source": [
    "Em seguida, soliciamos à GPU a localização da variável \"position\" (que guarda coordenadas dos nossos vértices). Nós definimos essa variável no Vertex Shader."
   ]
  },
  {
   "cell_type": "code",
   "execution_count": 22,
   "metadata": {},
   "outputs": [],
   "source": [
    "loc = glGetAttribLocation(program, \"position\")\n",
    "glEnableVertexAttribArray(loc)"
   ]
  },
  {
   "cell_type": "markdown",
   "metadata": {},
   "source": [
    "A partir da localização anterior, nós indicamos à GPU onde está o conteúdo (via posições stride/offset) para a variável position (aqui identificada na posição loc).\n",
    "\n",
    "Outros parâmetros:\n",
    "\n",
    "* Definimos que possui duas coordenadas\n",
    "* Que cada coordenada é do tipo float (GL_FLOAT)\n",
    "* Que não se deve normalizar a coordenada (False)\n",
    "\n",
    "Mais detalhes: https://www.khronos.org/registry/OpenGL-Refpages/gl4/html/glVertexAttribPointer.xhtml"
   ]
  },
  {
   "cell_type": "code",
   "execution_count": 23,
   "metadata": {},
   "outputs": [],
   "source": [
    "glVertexAttribPointer(loc, 2, GL_FLOAT, False, stride, offset)"
   ]
  },
  {
   "cell_type": "markdown",
   "metadata": {},
   "source": [
    "###  Vamos pegar a localização da variável color (uniform) para que possamos alterá-la em nosso laço da janela!"
   ]
  },
  {
   "cell_type": "code",
   "execution_count": 24,
   "metadata": {},
   "outputs": [],
   "source": [
    "loc_color = glGetUniformLocation(program, \"color\")\n",
    "loc_transform = glGetUniformLocation(program, \"mat_transformation\")"
   ]
  },
  {
   "cell_type": "code",
   "execution_count": 25,
   "metadata": {},
   "outputs": [],
   "source": [
    "def draw_element(vertices, color, transform):\n",
    "    glUniform4f(loc_color, *color)\n",
    "    glUniformMatrix4fv(loc_transform, 1, GL_TRUE, transform)\n",
    "    glDrawArrays(GL_TRIANGLE_STRIP, offset, len(vertices))"
   ]
  },
  {
   "cell_type": "code",
   "execution_count": 26,
   "metadata": {},
   "outputs": [],
   "source": [
    "def multiplica_matriz(a,b):\n",
    "    m_a = a.reshape(4,4)\n",
    "    m_b = b.reshape(4,4)\n",
    "    m_c = np.dot(m_a,m_b)\n",
    "    c = m_c.reshape(1,16)\n",
    "    return c"
   ]
  },
  {
   "cell_type": "markdown",
   "metadata": {},
   "source": [
    "### Capturando eventos de teclado e modificando variáveis para a matriz de transformação"
   ]
  },
  {
   "cell_type": "code",
   "execution_count": 27,
   "metadata": {},
   "outputs": [],
   "source": [
    "#### O código dessa célula não está sendo usado.\n",
    "triangulos = False\n",
    "def key_event(window,key,scancode,action,mods):\n",
    "    global vel_x, vel_y, angulo, tam, flag, polygon_mode, triangulos\n",
    "    max_velo = 0.0003\n",
    "\n",
    "    if key == 84:\n",
    "        triangulos = not triangulos\n",
    "    \n",
    "    if key == 265 and vel_y < max_velo : vel_y += 0.00001 #cima\n",
    "    if key == 264 and vel_y > -max_velo : vel_y -= 0.00001 #baixo\n",
    "    if key == 263 and vel_x > -max_velo: vel_x -= 0.00001 #esquerda\n",
    "    if key == 262 and vel_x < max_velo: vel_x += 0.00001 #direita\n",
    "\n",
    "    if key == 65: angulo += 0.01 #a \n",
    "    if key == 83: angulo -= 0.01  #s\n",
    "\n",
    "    if key == 90: tam += 0.01 # x\n",
    "    if key == 88: tam -= 0.01 # z\n",
    "\n",
    "    if key == 80 and action == glfw.PRESS:\n",
    "        if polygon_mode == GL_FILL:\n",
    "            polygon_mode = GL_LINE  # Modo wireframe\n",
    "        else:\n",
    "            polygon_mode = GL_FILL  # Modo preenchido\n",
    "    \n",
    "glfw.set_key_callback(window,key_event)\n",
    "\n",
    "\n",
    "def mouse_event(window,button,action,mods):\n",
    "    \n",
    "    print('[mouse event] button=',button)\n",
    "    print('[mouse event] action=',action)\n",
    "    print('[mouse event] mods=',mods)\n",
    "    print('-------')\n",
    "    if button == 0:\n",
    "        print('cliquei no botao mouse esquerdo...')\n",
    "\n",
    "glfw.set_mouse_button_callback(window,mouse_event)\n"
   ]
  },
  {
   "cell_type": "code",
   "execution_count": 28,
   "metadata": {},
   "outputs": [],
   "source": [
    "def escala(sx,sy,sz):\n",
    "    return np.array([sx, 0.0, 0.0, 0.0,\n",
    "                     0.0, sy, 0.0, 0.0,\n",
    "                     0.0, 0.0, sz, 0.0,\n",
    "                     0.0, 0.0, 0.0, 1.0], np.float32)"
   ]
  },
  {
   "cell_type": "code",
   "execution_count": 29,
   "metadata": {},
   "outputs": [],
   "source": [
    "def translacao(tx,ty,tz):\n",
    "    return np.array([1.0, 0.0, 0.0, tx,\n",
    "                     0.0, 1.0, 0.0, ty,\n",
    "                     0.0, 0.0, 1.0, tz,\n",
    "                     0.0, 0.0, 0.0, 1.0], np.float32)"
   ]
  },
  {
   "cell_type": "code",
   "execution_count": 30,
   "metadata": {},
   "outputs": [],
   "source": [
    "def rotacao(theta):\n",
    "    return np.array([np.cos(theta), -np.sin(theta), 0.0, 0.0,\n",
    "                     np.sin(theta), np.cos(theta), 0.0, 0.0,\n",
    "                     0.0, 0.0, 1.0, 0.0,\n",
    "                     0.0, 0.0, 0.0, 1.0], np.float32)"
   ]
  },
  {
   "cell_type": "markdown",
   "metadata": {},
   "source": [
    "### Nesse momento, nós exibimos a janela!\n"
   ]
  },
  {
   "cell_type": "code",
   "execution_count": 31,
   "metadata": {},
   "outputs": [],
   "source": [
    "glfw.show_window(window)"
   ]
  },
  {
   "cell_type": "markdown",
   "metadata": {},
   "source": [
    "### Loop principal da janela.\n",
    "Enquanto a janela não for fechada, esse laço será executado. É neste espaço que trabalhamos com algumas interações com a OpenGL.\n",
    "\n",
    "A novidade agora é a função glDrawArrays()\n",
    "\n",
    "Tal função recebe o tipo de primitiva (GL_TRIANGLES), o índice inicial do array de vértices (vamos mostrar todos os três vértices, por isso começamos com 0) e a quantidade de vértices ( len(vertices) )."
   ]
  },
  {
   "cell_type": "code",
   "execution_count": 32,
   "metadata": {
    "scrolled": true
   },
   "outputs": [
    {
     "name": "stdout",
     "output_type": "stream",
     "text": [
      "[mouse event] button= 0\n",
      "[mouse event] action= 1\n",
      "[mouse event] mods= 0\n",
      "-------\n",
      "cliquei no botao mouse esquerdo...\n",
      "[mouse event] button= 0\n",
      "[mouse event] action= 0\n",
      "[mouse event] mods= 0\n",
      "-------\n",
      "cliquei no botao mouse esquerdo...\n"
     ]
    }
   ],
   "source": [
    "import math\n",
    "\n",
    "angulo = 0\n",
    "vel_x = 0\n",
    "vel_y = 0\n",
    "tam = 0.2\n",
    "s_x = 0\n",
    "s_y = 0\n",
    "polygon_mode = GL_FILL\n",
    "\n",
    "#glEnable(GL_BLEND);\n",
    "#glBlendFunc(GL_SRC_ALPHA, GL_ONE_MINUS_SRC_ALPHA);\n",
    "\n",
    "\n",
    "while not glfw.window_should_close(window):\n",
    "\n",
    "    glfw.poll_events() \n",
    "\n",
    "    \n",
    "    glClearColor(0.0, 0.2, 0.5, 1.0)\n",
    "    glClear(GL_COLOR_BUFFER_BIT) \n",
    "    \n",
    "    glUniform4f(loc_color, 1.0, 1.0, 1.0, 1.0) #ceu\n",
    "    glUniformMatrix4fv(loc_transform, 1,GL_TRUE, translacao(1.0, 1.0, 0))\n",
    "    glDrawArrays(GL_TRIANGLE_STRIP, 0, len(vertice_ceu))\n",
    "\n",
    "\n",
    "    glUniform4f(loc_color, 1.0, 1.0, 0.0, 1.0)\n",
    "    glUniformMatrix4fv(loc_transform, 1,GL_TRUE, translacao(1.0, 1.0, 0))\n",
    "    glDrawArrays(GL_TRIANGLE_FAN, len(vertice_ceu), len(vertices_sol))\n",
    "    \n",
    "    \n",
    "    #glUniform4f(loc_color, 1.0, 1.0, 1.0, 1.0) ### modificando a cor do objeto!\n",
    "\n",
    "    if triangulos:\n",
    "        glPolygonMode(GL_FRONT_AND_BACK,GL_LINE)\n",
    "\n",
    "    else: \n",
    "        glPolygonMode(GL_FRONT_AND_BACK, polygon_mode)\n",
    "    glfw.swap_buffers(window)\n",
    "\n",
    "glfw.terminate()"
   ]
  },
  {
   "cell_type": "markdown",
   "metadata": {},
   "source": [
    "     c = math.cos(angulo)\n",
    "    s = math.sin(angulo)\n",
    " \n",
    "    s_x += vel_x\n",
    "    s_y += vel_y\n",
    "\n",
    "    \n",
    "\n",
    "    \n",
    "    \n",
    "    mat_translation       = np.array([      tam, 0.0, 0.0, s_x, \n",
    "                                            0.0, tam, 0.0, s_y, \n",
    "                                            0.0, 0.0, 1.0, 0.0, \n",
    "                                            0.0, 0.0, 0.0, 1.0], np.float32)\n",
    "\n",
    "    \n",
    "    mat_rotation = np.array([       c,   -s,  0.0, s_x-s_x*c + s_y*s, \n",
    "                                    s,    c,  0.0, s_y-s_y*c - s_x*s, \n",
    "                                    0.0, 0.0, 1.0, 0.0, \n",
    "                                    0.0, 0.0, 0.0, 1.0], np.float32)\n",
    "\n",
    "    mat_final = multiplica_matriz(mat_rotation, mat_translation)\n",
    "\n",
    "\n",
    "    # pede a localizacao da variavel mat_transformation no shader\n",
    "    loc = glGetUniformLocation(program, \"mat_transformation\")\n",
    "    \n",
    "    # set mat_transformation com a mat_rotation\n",
    "    glUniformMatrix4fv(loc, 1, GL_TRUE, mat_final)\n",
    "\n",
    "    glPolygonMode(GL_FRONT_AND_BACK, polygon_mode)\n",
    "    \n",
    "    #glPolygonMode(GL_FRONT_AND_BACK,GL_LINE) ## ative esse comando para enxergar os triângulos"
   ]
  },
  {
   "cell_type": "code",
   "execution_count": null,
   "metadata": {},
   "outputs": [],
   "source": []
  }
 ],
 "metadata": {
  "finalized": {
   "timestamp": 1583114796072,
   "trusted": true
  },
  "kernelspec": {
   "display_name": "Python 3 (ipykernel)",
   "language": "python",
   "name": "python3"
  },
  "language_info": {
   "codemirror_mode": {
    "name": "ipython",
    "version": 3
   },
   "file_extension": ".py",
   "mimetype": "text/x-python",
   "name": "python",
   "nbconvert_exporter": "python",
   "pygments_lexer": "ipython3",
   "version": "3.11.7"
  }
 },
 "nbformat": 4,
 "nbformat_minor": 4
}
