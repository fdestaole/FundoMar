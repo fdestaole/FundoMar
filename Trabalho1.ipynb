{
 "cells": [
  {
   "cell_type": "markdown",
   "metadata": {},
   "source": [
    "# <font color='blue'> Trabalho I Computação gráfica"
   ]
  },
  {
   "cell_type": "markdown",
   "metadata": {},
   "source": [
    "## Alunos\n",
    "### Felipe Destaole / 13686768\n",
    "### João Pedro Farjoun Silva / 13731319"
   ]
  },
  {
   "cell_type": "code",
   "execution_count": 1,
   "metadata": {},
   "outputs": [],
   "source": [
    "# !pip install glfw\n",
    "# !pip install pyopengl\n"
   ]
  },
  {
   "cell_type": "markdown",
   "metadata": {},
   "source": [
    "### Primeiro, vamos importar as bibliotecas necessárias.\n",
    "Verifique no código anterior um script para instalar as dependências necessárias (OpenGL e GLFW) antes de prosseguir."
   ]
  },
  {
   "cell_type": "code",
   "execution_count": 2,
   "metadata": {},
   "outputs": [],
   "source": [
    "import glfw\n",
    "from OpenGL.GL import *\n",
    "import OpenGL.GL.shaders\n",
    "import numpy as np\n",
    "import math"
   ]
  },
  {
   "cell_type": "markdown",
   "metadata": {},
   "source": [
    "### Inicializando janela"
   ]
  },
  {
   "cell_type": "code",
   "execution_count": 3,
   "metadata": {},
   "outputs": [],
   "source": [
    "glfw.init()\n",
    "glfw.window_hint(glfw.VISIBLE, glfw.FALSE);\n",
    "window = glfw.create_window(1920, 1080, \"Fundo do mar\", None, None)\n",
    "glfw.make_context_current(window)"
   ]
  },
  {
   "cell_type": "markdown",
   "metadata": {},
   "source": [
    "### GLSL (OpenGL Shading Language)\n",
    "\n",
    "Aqui veremos nosso primeiro código GLSL.\n",
    "\n",
    "É uma linguagem de shading de alto nível baseada na linguagem de programação C.\n",
    "\n",
    "Nós estamos escrevendo código GLSL como se \"strings\" de uma variável (mas podemos ler de arquivos texto). Esse código, depois, terá que ser compilado e linkado ao nosso programa. \n",
    "\n",
    "Iremos aprender GLSL conforme a necessidade do curso. Usarmos uma versão do GLSL mais antiga, compatível com muitos dispositivos."
   ]
  },
  {
   "cell_type": "markdown",
   "metadata": {},
   "source": [
    "### GLSL para Vertex Shader\n",
    "\n",
    "No Pipeline programável, podemos interagir com Vertex Shaders.\n",
    "\n",
    "No código abaixo, estamos fazendo o seguinte:\n",
    "\n",
    "* Definindo uma variável chamada position do tipo vec2.\n",
    "* Definindo uma variável chamada mat_transformation do tipo mat4 (matriz 4x4).\n",
    "* Usamos vec2, pois nosso programa (na CPU) irá enviar apenas duas coordenadas para plotar um ponto. Podemos mandar três coordenadas (vec3) e até mesmo quatro coordenadas (vec4).\n",
    "* void main() é o ponto de entrada do nosso programa (função principal)\n",
    "* gl_Position é uma variável especial do GLSL. Variáveis que começam com 'gl_' são desse tipo. Nesse caso, determina a posição de um vértice. Observe que todo vértice tem 4 coordenadas, por isso nós combinamos nossa variável vec2 com uma variável vec4. Além disso, nós modificamos nosso vetor com base em uma matriz de transformação, conforme estudado na Aula05."
   ]
  },
  {
   "cell_type": "code",
   "execution_count": 4,
   "metadata": {},
   "outputs": [],
   "source": [
    "vertex_code = \"\"\"\n",
    "        attribute vec3 position;\n",
    "        uniform mat4 mat_transformation;\n",
    "        void main(){\n",
    "            gl_Position = mat_transformation * vec4(position,1.0);\n",
    "        }\n",
    "        \"\"\""
   ]
  },
  {
   "cell_type": "markdown",
   "metadata": {},
   "source": [
    "### GLSL para Fragment Shader\n",
    "\n",
    "No Pipeline programável, podemos interagir com Fragment Shaders.\n",
    "\n",
    "No código abaixo, estamos fazendo o seguinte:\n",
    "\n",
    "* void main() é o ponto de entrada do nosso programa (função principal)\n",
    "* gl_FragColor é uma variável especial do GLSL. Variáveis que começam com 'gl_' são desse tipo. Nesse caso, determina a cor de um fragmento. Nesse caso é um ponto, mas poderia ser outro objeto (ponto, linha, triangulos, etc)."
   ]
  },
  {
   "cell_type": "markdown",
   "metadata": {},
   "source": [
    "### Possibilitando modificar a cor.\n",
    "\n",
    "Nos exemplos anteriores, a variável gl_FragColor estava definida de forma fixa (com cor R=0, G=0, B=0).\n",
    "\n",
    "Agora, nós vamos criar uma variável do tipo \"uniform\", de quatro posições (vec4), para receber o dado de cor do nosso programa rodando em CPU."
   ]
  },
  {
   "cell_type": "code",
   "execution_count": 5,
   "metadata": {},
   "outputs": [],
   "source": [
    "fragment_code = \"\"\"\n",
    "        uniform vec4 color;\n",
    "        void main(){\n",
    "            gl_FragColor = color;\n",
    "        }\n",
    "        \"\"\""
   ]
  },
  {
   "cell_type": "markdown",
   "metadata": {},
   "source": [
    "### Requisitando slot para a GPU para nossos programas Vertex e Fragment Shaders"
   ]
  },
  {
   "cell_type": "code",
   "execution_count": 6,
   "metadata": {},
   "outputs": [],
   "source": [
    "# Request a program and shader slots from GPU\n",
    "program  = glCreateProgram()\n",
    "vertex   = glCreateShader(GL_VERTEX_SHADER)\n",
    "fragment = glCreateShader(GL_FRAGMENT_SHADER)\n"
   ]
  },
  {
   "cell_type": "markdown",
   "metadata": {},
   "source": [
    "### Associando nosso código-fonte aos slots solicitados"
   ]
  },
  {
   "cell_type": "code",
   "execution_count": 7,
   "metadata": {},
   "outputs": [],
   "source": [
    "# Set shaders source\n",
    "glShaderSource(vertex, vertex_code)\n",
    "glShaderSource(fragment, fragment_code)"
   ]
  },
  {
   "cell_type": "markdown",
   "metadata": {},
   "source": [
    "### Compilando o Vertex Shader\n",
    "\n",
    "Se há algum erro em nosso programa Vertex Shader, nosso app para por aqui."
   ]
  },
  {
   "cell_type": "code",
   "execution_count": 8,
   "metadata": {},
   "outputs": [],
   "source": [
    "# Compile shaders\n",
    "glCompileShader(vertex)\n",
    "if not glGetShaderiv(vertex, GL_COMPILE_STATUS):\n",
    "    error = glGetShaderInfoLog(vertex).decode()\n",
    "    print(error)\n",
    "    raise RuntimeError(\"Erro de compilacao do Vertex Shader\")\n"
   ]
  },
  {
   "cell_type": "markdown",
   "metadata": {},
   "source": [
    "### Compilando o Fragment Shader\n",
    "\n",
    "Se há algum erro em nosso programa Fragment Shader, nosso app para por aqui."
   ]
  },
  {
   "cell_type": "code",
   "execution_count": 9,
   "metadata": {},
   "outputs": [],
   "source": [
    "glCompileShader(fragment)\n",
    "if not glGetShaderiv(fragment, GL_COMPILE_STATUS):\n",
    "    error = glGetShaderInfoLog(fragment).decode()\n",
    "    print(error)\n",
    "    raise RuntimeError(\"Erro de compilacao do Fragment Shader\")"
   ]
  },
  {
   "cell_type": "markdown",
   "metadata": {},
   "source": [
    "### Associando os programas compilado ao programa principal"
   ]
  },
  {
   "cell_type": "code",
   "execution_count": 10,
   "metadata": {},
   "outputs": [],
   "source": [
    "# Attach shader objects to the program\n",
    "glAttachShader(program, vertex)\n",
    "glAttachShader(program, fragment)\n"
   ]
  },
  {
   "cell_type": "markdown",
   "metadata": {},
   "source": [
    "### Linkagem do programa"
   ]
  },
  {
   "cell_type": "code",
   "execution_count": 11,
   "metadata": {},
   "outputs": [],
   "source": [
    "# Build program\n",
    "glLinkProgram(program)\n",
    "if not glGetProgramiv(program, GL_LINK_STATUS):\n",
    "    print(glGetProgramInfoLog(program))\n",
    "    raise RuntimeError('Linking error')\n",
    "    \n",
    "# Make program the default program\n",
    "glUseProgram(program)"
   ]
  },
  {
   "cell_type": "markdown",
   "metadata": {},
   "source": [
    "### Preparando dados para enviar a GPU\n",
    "\n",
    "Nesse momento, nós compilamos nossos Vertex e Program Shaders para que a GPU possa processá-los.\n",
    "\n",
    "Por outro lado, as informações de vértices geralmente estão na CPU e devem ser transmitidas para a GPU.\n"
   ]
  },
  {
   "cell_type": "markdown",
   "metadata": {},
   "source": [
    "### Vertices Baiacu(Esfera com triangulos)"
   ]
  },
  {
   "cell_type": "code",
   "execution_count": 12,
   "metadata": {},
   "outputs": [],
   "source": [
    "PI = 3.141592\n",
    "r = 0.3 # raio\n",
    "num_sectors = 32 # qtd de sectors (longitude)\n",
    "num_stacks = 32 # qtd de stacks (latitude)\n",
    "\n",
    "\n",
    "# grid sectos vs stacks (longitude vs latitude)\n",
    "sector_step=(PI*2)/num_sectors # variar de 0 até 2π\n",
    "stack_step=(PI)/num_stacks # variar de 0 até π\n",
    "\n",
    "# Entrada: angulo de longitude, latitude, raio\n",
    "# Saida: coordenadas na esfera\n",
    "def F(u,v,r):\n",
    "    x = r*math.sin(v)*math.cos(u)\n",
    "    y = r*math.sin(v)*math.sin(u)\n",
    "    z = r*math.cos(v) - 0\n",
    "    return (x,y,z)\n",
    "\n",
    "# vamos gerar um conjunto de vertices representantes poligonos\n",
    "# para a superficie da esfera.\n",
    "# cada poligono eh representado por dois triangulos\n",
    "vertices_baiacu = []\n",
    "for i in range(0,num_sectors): # para cada sector (longitude)\n",
    "    for j in range(0,num_stacks): # para cada stack (latitude)\n",
    "        \n",
    "        \n",
    "        \n",
    "        u = i * sector_step # angulo setor\n",
    "        v = j * stack_step # angulo stack\n",
    "        \n",
    "        un = 0 # angulo do proximo sector\n",
    "        if i+1==num_sectors:\n",
    "            un = PI*2\n",
    "        else: un = (i+1)*sector_step\n",
    "            \n",
    "        vn = 0 # angulo do proximo stack\n",
    "        if j+1==num_stacks:\n",
    "            vn = PI\n",
    "        else: vn = (j+1)*stack_step\n",
    "        \n",
    "        # vertices do poligono\n",
    "        p0=F(u, v, r)\n",
    "        p1=F(u, vn, r)\n",
    "        p2=F(un, v, r)\n",
    "        p3=F(un, vn, r)\n",
    "        \n",
    "        # triangulo 1 (primeira parte do poligono)\n",
    "        vertices_baiacu.append(p0)\n",
    "        vertices_baiacu.append(p2)\n",
    "        vertices_baiacu.append(p1)\n",
    "        \n",
    "        # triangulo 2 (segunda e ultima parte do poligono)\n",
    "        vertices_baiacu.append(p3)\n",
    "        vertices_baiacu.append(p1)\n",
    "        vertices_baiacu.append(p2)\n",
    "\n",
    "vertices_baiacu += [\n",
    "    [+0.05,  0.0, 0.0],  # Vértice 1 (ponta da cauda)\n",
    "    [-0.4,  0.3, 0.0],  # Vértice 2 (parte superior da cauda)\n",
    "    [-0.4, -0.3, 0.0],  # Vértice 3 (parte inferior da cauda)\n",
    "]"
   ]
  },
  {
   "cell_type": "markdown",
   "metadata": {},
   "source": [
    "### Vertices estrela"
   ]
  },
  {
   "cell_type": "code",
   "execution_count": 13,
   "metadata": {},
   "outputs": [],
   "source": [
    "vertices_estrela = [\n",
    " #parte de tras\n",
    " [-0.90, 0.25,0],\n",
    " [-0.31, 0.34,0],\n",
    " [0.0, 0.0,0.5],\n",
    " [0.0, 0.0,0.5],\n",
    " [-0.31, 0.34,0],\n",
    " [0.0, 0.94,0],\n",
    " [0.0, 0.94,0],\n",
    " [0.21, 0.34,0],\n",
    " [0.0, 0.0,0.5],\n",
    " [0.0, 0.0,0.5],\n",
    " [0.21, 0.34,0],\n",
    " [0.90, 0.25,0],\n",
    " [0.0, 0.0,0.5],\n",
    " [0.5, -0.25,0],\n",
    " [0.90, 0.25,0],\n",
    " [0.0, 0.0,0.5],\n",
    " [0.55, -0.85,0],\n",
    " [0.5, -0.25,0],\n",
    " [0.0, 0.0,0.5],\n",
    " [0.0, -0.56,0],\n",
    " [0.55, -0.85,0],\n",
    " [0.0, 0.0,0.5],\n",
    " [-0.55, -0.85,0],\n",
    " [0.0, -0.56,0],\n",
    " [0.0, 0.0,0.5],\n",
    " [-0.5, -0.25,0],\n",
    " [-0.55, -0.85,0],\n",
    " [0.0, 0.0,0.5],\n",
    " [-0.5, -0.25,0],\n",
    " [-0.90, 0.25,0],\n",
    "\n",
    " #parte frontal\n",
    " [-0.90, 0.25,0],\n",
    " [-0.31, 0.34,0],\n",
    " [0.0, 0.0,-0.5],\n",
    " [0.0, 0.0,-0.5],\n",
    " [-0.31, 0.34,0],\n",
    " [0.0, 0.94,0],\n",
    " [0.0, 0.94,0],\n",
    " [0.21, 0.34,0],\n",
    " [0.0, 0.0,-0.5],\n",
    " [0.0, 0.0,-0.5],\n",
    " [0.21, 0.34,0],\n",
    " [0.90, 0.25,0],\n",
    " [0.0, 0.0,-0.5],\n",
    " [0.5, -0.25,0],\n",
    " [0.90, 0.25,0],\n",
    " [0.0, 0.0,-0.5],\n",
    " [0.55, -0.85,0],\n",
    " [0.5, -0.25,0],\n",
    " [0.0, 0.0,-0.5],\n",
    " [0.0, -0.56,0],\n",
    " [0.55, -0.85,0],\n",
    " [0.0, 0.0,-0.5],\n",
    " [-0.55, -0.85,0],\n",
    " [0.0, -0.56,0],\n",
    " [0.0, 0.0,-0.5],\n",
    " [-0.5, -0.25,0],\n",
    " [-0.55, -0.85,0],\n",
    " [0.0, 0.0,-0.5],\n",
    " [-0.5, -0.25,0],\n",
    " [-0.90, 0.25,0]\n",
    "]"
   ]
  },
  {
   "cell_type": "markdown",
   "metadata": {},
   "source": [
    "### Vertices do corpo do peixe(elipse) e a cauda(triangulo)"
   ]
  },
  {
   "cell_type": "code",
   "execution_count": 14,
   "metadata": {},
   "outputs": [],
   "source": [
    "# Número de vértices para o corpo do peixe\n",
    "num_vertices_circulo = 33\n",
    "raio = 0.4\n",
    "\n",
    "vertices_corpo = []\n",
    "\n",
    "for i in range(num_vertices_circulo):\n",
    "    angulo = 2 * math.pi * i / num_vertices_circulo\n",
    "    x = math.cos(angulo) * raio\n",
    "    y = math.sin(angulo) * raio\n",
    "    vertices_corpo.append([x, y,0.3])\n",
    "\n",
    "vertices_cauda = [\n",
    "    [+0.05,  0.0, 0.0],  # Vértice 1 (ponta da cauda)\n",
    "    [-0.4,  0.3, 0.0],  # Vértice 2 (parte superior da cauda)\n",
    "    [-0.4, -0.3, 0.0],  # Vértice 3 (parte inferior da cauda)\n",
    "]\n",
    "\n"
   ]
  },
  {
   "cell_type": "markdown",
   "metadata": {},
   "source": [
    "### Vertices do ceu(retangulo)"
   ]
  },
  {
   "cell_type": "code",
   "execution_count": 15,
   "metadata": {},
   "outputs": [],
   "source": [
    "vertice_ceu = []\n",
    "\n",
    "vertice_ceu = [\n",
    "    [+2.0, -0.7, 0.2],\n",
    "    [+2.0, +0.5, 0.2],\n",
    "    [-2.0, -0.7, 0.2],\n",
    "    [-2.0, +0.5, 0.2],\n",
    "]"
   ]
  },
  {
   "cell_type": "markdown",
   "metadata": {},
   "source": [
    "### Vertices do sol(esfera com triangulos)"
   ]
  },
  {
   "cell_type": "code",
   "execution_count": 16,
   "metadata": {},
   "outputs": [],
   "source": [
    "num_vertices = 50  # pontos para formar o círculo\n",
    "num_spikes = num_vertices  # número de espinhos\n",
    "raio = 0.1\n",
    "comprimento_espinhos = 0.2\n",
    "angulo = 0.0\n",
    "\n",
    "# Listas de vértices\n",
    "vertices_sol = []\n",
    "vertices_espinhos = []\n",
    "\n",
    "# Gera os vértices do círculo\n",
    "for i in range(num_vertices):\n",
    "    angulo += 2 * math.pi / num_vertices\n",
    "    x = math.cos(angulo) * raio\n",
    "    y = math.sin(angulo) * raio\n",
    "    vertices_sol.append([x, y, 0.0])\n",
    "\n",
    "    # Adiciona vértices dos espinhos\n",
    "    x_espinho = math.cos(angulo) * (raio + comprimento_espinhos)\n",
    "    y_espinho = math.sin(angulo) * (raio + comprimento_espinhos)\n",
    "    vertices_espinhos.append([x, y, 0])\n",
    "    vertices_espinhos.append([x_espinho, y_espinho, 0])\n",
    "\n",
    "\n"
   ]
  },
  {
   "cell_type": "markdown",
   "metadata": {},
   "source": [
    "### Vertices de um barco"
   ]
  },
  {
   "cell_type": "code",
   "execution_count": 17,
   "metadata": {},
   "outputs": [],
   "source": [
    "vertices_barco = []\n",
    "\n",
    "vertices_barco = [\n",
    "    \n",
    "    [-0.96, 0.0, -0.1],[-0.67, -0.83, -0.1],\n",
    "    [-0.01, -0.14, -0.1],[-0.01, -0.14, -0.1],\n",
    "    [0.65, -0.83, -0.1],[-0.67, -0.83, -0.1],\n",
    "    [-0.01, -0.14, -0.1],[0.94, 0.00, -0.1],\n",
    "    [0.65, -0.83, -0.1],[-0.46, -0.09, -0.1],\n",
    "    [-0.01, 0.71, -0.1],[-0.01, -0.14, -0.1],\n",
    "    [-0.01, 0.71, -0.1],[0.41, -0.09, -0.1],\n",
    "    [-0.01, -0.14, -0.1],\n",
    "]\n"
   ]
  },
  {
   "cell_type": "code",
   "execution_count": 18,
   "metadata": {},
   "outputs": [],
   "source": [
    "obj_vert = []\n",
    "\n",
    "\n",
    "obj_vert.append(vertice_ceu)\n",
    "obj_vert.append(vertices_espinhos)\n",
    "obj_vert.append(vertices_corpo)\n",
    "obj_vert.append(vertices_cauda)\n",
    "obj_vert.append(vertices_estrela)\n",
    "obj_vert.append(vertices_barco)\n",
    "obj_vert.append(vertices_baiacu)\n",
    "\n",
    "obj_vert = np.concatenate(obj_vert)"
   ]
  },
  {
   "cell_type": "code",
   "execution_count": 19,
   "metadata": {},
   "outputs": [],
   "source": [
    "vertices = np.zeros(len(obj_vert), [(\"position\", np.float32, 3)])"
   ]
  },
  {
   "cell_type": "code",
   "execution_count": 20,
   "metadata": {},
   "outputs": [],
   "source": [
    "vertices['position'] = obj_vert"
   ]
  },
  {
   "cell_type": "markdown",
   "metadata": {},
   "source": [
    "### Para enviar nossos dados da CPU para a GPU, precisamos requisitar um slot."
   ]
  },
  {
   "cell_type": "code",
   "execution_count": 21,
   "metadata": {},
   "outputs": [],
   "source": [
    "# Request a buffer slot from GPU\n",
    "buffer = glGenBuffers(1)\n",
    "# Make this buffer the default one\n",
    "glBindBuffer(GL_ARRAY_BUFFER, buffer)\n"
   ]
  },
  {
   "cell_type": "markdown",
   "metadata": {},
   "source": [
    "### Abaixo, nós enviamos todo o conteúdo da variável vertices.\n",
    "\n",
    "Veja os parâmetros da função glBufferData [https://www.khronos.org/registry/OpenGL-Refpages/gl4/html/glBufferData.xhtml]"
   ]
  },
  {
   "cell_type": "code",
   "execution_count": 22,
   "metadata": {},
   "outputs": [],
   "source": [
    "# Upload data\n",
    "glBufferData(GL_ARRAY_BUFFER, vertices.nbytes, vertices, GL_DYNAMIC_DRAW)\n",
    "glBindBuffer(GL_ARRAY_BUFFER, buffer)"
   ]
  },
  {
   "cell_type": "markdown",
   "metadata": {},
   "source": [
    "### Associando variáveis do programa GLSL (Vertex Shaders) com nossos dados\n",
    "\n",
    "Primeiro, definimos o byte inicial e o offset dos dados."
   ]
  },
  {
   "cell_type": "code",
   "execution_count": 23,
   "metadata": {},
   "outputs": [],
   "source": [
    "# Bind the position attribute\n",
    "# --------------------------------------\n",
    "stride = vertices.strides[0]\n",
    "offset = ctypes.c_void_p(0)\n"
   ]
  },
  {
   "cell_type": "markdown",
   "metadata": {},
   "source": [
    "Em seguida, soliciamos à GPU a localização da variável \"position\" (que guarda coordenadas dos nossos vértices). Nós definimos essa variável no Vertex Shader."
   ]
  },
  {
   "cell_type": "code",
   "execution_count": 24,
   "metadata": {},
   "outputs": [],
   "source": [
    "loc = glGetAttribLocation(program, \"position\")\n",
    "glEnableVertexAttribArray(loc)"
   ]
  },
  {
   "cell_type": "markdown",
   "metadata": {},
   "source": [
    "A partir da localização anterior, nós indicamos à GPU onde está o conteúdo (via posições stride/offset) para a variável position (aqui identificada na posição loc).\n",
    "\n",
    "Outros parâmetros:\n",
    "\n",
    "* Definimos que possui duas coordenadas\n",
    "* Que cada coordenada é do tipo float (GL_FLOAT)\n",
    "* Que não se deve normalizar a coordenada (False)\n",
    "\n",
    "Mais detalhes: https://www.khronos.org/registry/OpenGL-Refpages/gl4/html/glVertexAttribPointer.xhtml"
   ]
  },
  {
   "cell_type": "code",
   "execution_count": 25,
   "metadata": {},
   "outputs": [],
   "source": [
    "glVertexAttribPointer(loc, 3, GL_FLOAT, False, stride, offset)"
   ]
  },
  {
   "cell_type": "markdown",
   "metadata": {},
   "source": [
    "###  Vamos pegar a localização da variável color (uniform) para que possamos alterá-la em nosso laço da janela!"
   ]
  },
  {
   "cell_type": "code",
   "execution_count": 26,
   "metadata": {},
   "outputs": [],
   "source": [
    "loc_color = glGetUniformLocation(program, \"color\")\n",
    "loc_transform = glGetUniformLocation(program, \"mat_transformation\")"
   ]
  },
  {
   "cell_type": "markdown",
   "metadata": {},
   "source": [
    "### Capturando eventos de teclado e modificando variáveis para a matriz de transformação"
   ]
  },
  {
   "cell_type": "code",
   "execution_count": 27,
   "metadata": {},
   "outputs": [],
   "source": [
    "def multiplica_matriz(a,b):\n",
    "    m_a = a.reshape(4,4)\n",
    "    m_b = b.reshape(4,4)\n",
    "    m_c = np.dot(m_a,m_b)\n",
    "    c = m_c.reshape(1,16)\n",
    "    return c"
   ]
  },
  {
   "cell_type": "code",
   "execution_count": 28,
   "metadata": {},
   "outputs": [],
   "source": [
    "#### O código dessa célula não está sendo usado.\n",
    "\n",
    "def key_event(window,key,scancode,action,mods):\n",
    "    global vel_x, vel_y, angulo, tam, flag, polygon_mode\n",
    "    max_velo = 0.1\n",
    "    max_ang = 0.1\n",
    "    \n",
    "    if key == 265: vel_y += 0.01 #cima\n",
    "    if key == 264: vel_y -= 0.01 #baixo\n",
    "    if key == 263: vel_x -= 0.01 #esquerda\n",
    "    if key == 262: vel_x += 0.01 #direita\n",
    "\n",
    "\n",
    "\n",
    "    if key == 65 and angulo < max_ang: angulo += 0.001 #a\n",
    "    if key == 83 and angulo > -max_ang: angulo -= 0.001 #s\n",
    "\n",
    "    if key == 90: tam += 0.01 \n",
    "    if key == 88: tam -= 0.01\n",
    "\n",
    "    if key == 80 and action == glfw.PRESS:\n",
    "        if polygon_mode == GL_FILL:\n",
    "            polygon_mode = GL_LINE  # Modo wireframe\n",
    "        else:\n",
    "            polygon_mode = GL_FILL  # Modo preenchido\n",
    "    \n",
    "glfw.set_key_callback(window,key_event)\n",
    "\n",
    "\n",
    "def mouse_event(window,button,action,mods):\n",
    "    \n",
    "    print('[mouse event] button=',button)\n",
    "    print('[mouse event] action=',action)\n",
    "    print('[mouse event] mods=',mods)\n",
    "    print('-------')\n",
    "    if button == 0:\n",
    "        print('cliquei no botao mouse esquerdo...')\n",
    "\n",
    "glfw.set_mouse_button_callback(window,mouse_event)\n"
   ]
  },
  {
   "cell_type": "code",
   "execution_count": 29,
   "metadata": {},
   "outputs": [],
   "source": [
    "def escala(sx,sy,sz):\n",
    "    return np.array([sx, 0.0, 0.0, 0.0,\n",
    "                     0.0, sy, 0.0, 0.0,\n",
    "                     0.0, 0.0, sz, 0.0,\n",
    "                     0.0, 0.0, 0.0, 1.0], np.float32)"
   ]
  },
  {
   "cell_type": "code",
   "execution_count": 30,
   "metadata": {},
   "outputs": [],
   "source": [
    "def translacao(tx,ty,tz):\n",
    "    return np.array([1.0, 0.0, 0.0, tx,\n",
    "                     0.0, 1.0, 0.0, ty,\n",
    "                     0.0, 0.0, 1.0, tz,\n",
    "                     0.0, 0.0, 0.0, 1.0], np.float32)"
   ]
  },
  {
   "cell_type": "code",
   "execution_count": 31,
   "metadata": {},
   "outputs": [],
   "source": [
    "def rotacao(theta_x,theta_y,theta_z):\n",
    "    mat_rotation_z = np.array([\n",
    "        np.cos(theta_z), -np.sin(theta_z), 0.0, 0.0, \n",
    "        np.sin(theta_z), np.cos(theta_z),  0.0, 0.0, \n",
    "        0.0,           0.0,            1.0, 0.0, \n",
    "        0.0,           0.0,            0.0, 1.0\n",
    "        ], dtype=np.float32)\n",
    "\n",
    "    mat_rotation_x = np.array([\n",
    "        1.0,  0.0,            0.0,           0.0,\n",
    "        0.0,  np.cos(theta_x), -np.sin(theta_x),  0.0, \n",
    "        0.0,  np.sin(theta_x),  np.cos(theta_x),  0.0, \n",
    "        0.0,  0.0,            0.0,           1.0\n",
    "        ], dtype=np.float32)\n",
    "\n",
    "    mat_rotation_y = np.array([\n",
    "        np.cos(theta_y),  0.0,  np.sin(theta_y), 0.0, \n",
    "        0.0,            1.0,  0.0,          0.0, \n",
    "        -np.sin(theta_y), 0.0,  np.cos(theta_y), 0.0, \n",
    "        0.0,            0.0,  0.0,          1.0\n",
    "        ], dtype=np.float32)\n",
    "\n",
    "    \n",
    "    mat_transform = multiplica_matriz(mat_rotation_z,mat_rotation_y)\n",
    "    mat_transform = multiplica_matriz(mat_rotation_x,mat_transform)\n",
    "\n",
    "    return mat_transform"
   ]
  },
  {
   "cell_type": "markdown",
   "metadata": {},
   "source": [
    "### Nesse momento, nós exibimos a janela!\n"
   ]
  },
  {
   "cell_type": "code",
   "execution_count": 32,
   "metadata": {},
   "outputs": [],
   "source": [
    "glfw.show_window(window)"
   ]
  },
  {
   "cell_type": "markdown",
   "metadata": {},
   "source": [
    "### Loop principal da janela.\n",
    "Enquanto a janela não for fechada, esse laço será executado. É neste espaço que trabalhamos com algumas interações com a OpenGL.\n",
    "\n",
    "A novidade agora é a função glDrawArrays()\n",
    "\n",
    "Tal função recebe o tipo de primitiva (GL_TRIANGLES), o índice inicial do array de vértices (vamos mostrar todos os três vértices, por isso começamos com 0) e a quantidade de vértices ( len(vertices) )."
   ]
  },
  {
   "cell_type": "markdown",
   "metadata": {},
   "source": [
    "### Dividindo em funções os objetos que temos que gerar"
   ]
  },
  {
   "cell_type": "code",
   "execution_count": 33,
   "metadata": {},
   "outputs": [],
   "source": [
    "def background():\n",
    "    glClearColor(0.0, 0.2, 0.5, 1.0)\n",
    "    glClear(GL_COLOR_BUFFER_BIT | GL_DEPTH_BUFFER_BIT) \n",
    "    \n",
    "    glUniform4f(loc_color, 1.0, 1.0, 1.0, 1.0) #ceu\n",
    "    glUniformMatrix4fv(loc_transform, 1, GL_TRUE, translacao(1.0, 1.0, 0))\n",
    "    glDrawArrays(GL_TRIANGLE_STRIP, 0, len(vertice_ceu))\n",
    "\n",
    "    glUniform4f(loc_color, 0.94, 0.9, 0.55, 1.0) #areia\n",
    "    glUniformMatrix4fv(loc_transform, 1, GL_TRUE, translacao(1.0, -1.4, 0.1))\n",
    "    glDrawArrays(GL_TRIANGLE_STRIP, 0, len(vertice_ceu))\n",
    "\n",
    "\n",
    "    glUniform4f(loc_color, 1.0, 0.95, 0.0, 1.0) #sol\n",
    "    glUniformMatrix4fv(loc_transform, 1, GL_TRUE, translacao(0.9, 0.9, -0.1))\n",
    "    glDrawArrays(GL_POLYGON, len(vertice_ceu), len(vertices_espinhos))"
   ]
  },
  {
   "cell_type": "code",
   "execution_count": 34,
   "metadata": {},
   "outputs": [],
   "source": [
    "def peixe():\n",
    "    global inicio\n",
    "    peixe_x = 0.3\n",
    "    peixe_y = -0.5\n",
    "\n",
    "\n",
    "    glUniform4f(loc_color, 1.0, 0.5, 0.31, 1.0) #peixe-corpo\n",
    "    glUniformMatrix4fv(loc_transform, 1, GL_TRUE, multiplica_matriz(translacao(peixe_x, peixe_y, 0),escala(0.3,0.3,0)))\n",
    "    glDrawArrays(GL_POLYGON, inicio, len(vertices_corpo))\n",
    "\n",
    "    glUniform4f(loc_color, 1.0, 1.0, 1.0, 1.0) #peixe-olho\n",
    "    glUniformMatrix4fv(loc_transform, 1, GL_TRUE, multiplica_matriz(translacao(peixe_x + 0.07, peixe_y + 0.06, -0.01),escala(0.04,0.04,0)))\n",
    "    glDrawArrays(GL_POLYGON, inicio, len(vertices_corpo))\n",
    "\n",
    "    glUniform4f(loc_color, 0.0, 0.0, 0.0, 1.0) #peixe-olho-parte-preta\n",
    "    glUniformMatrix4fv(loc_transform, 1, GL_TRUE, multiplica_matriz(translacao(peixe_x + 0.07, peixe_y + 0.06, -0.02),escala(0.03,0.03,0)))\n",
    "    glDrawArrays(GL_POLYGON, inicio, len(vertices_corpo))\n",
    "\n",
    "    inicio += len(vertices_corpo)\n",
    "\n",
    "    glUniform4f(loc_color, 1.0, 0.5, 0.31, 1.0) #peixe-cauda\n",
    "    glUniformMatrix4fv(loc_transform, 1, GL_TRUE, multiplica_matriz(translacao(peixe_x - 0.05, peixe_y, 0),escala(0.3,0.3,0)))\n",
    "    glDrawArrays(GL_POLYGON, inicio, len(vertices_cauda))"
   ]
  },
  {
   "cell_type": "code",
   "execution_count": 35,
   "metadata": {},
   "outputs": [],
   "source": [
    "def barco(mat_barco):\n",
    "    glUniform4f(loc_color, 0.75, 0.75, 0.75, 1.0) #barco\n",
    "    glUniformMatrix4fv(loc_transform, 1, GL_TRUE, mat_barco)\n",
    "    glDrawArrays(GL_TRIANGLES, inicio, len(vertices_barco))"
   ]
  },
  {
   "cell_type": "code",
   "execution_count": 36,
   "metadata": {},
   "outputs": [],
   "source": [
    "def baiacu(mat_baiacu,cauda,olho):\n",
    "    global inicio, baiacu_x,baiacu_y,baiacu_z,escalar\n",
    "    glUniformMatrix4fv(loc, 1, GL_TRUE, mat_baiacu)\n",
    "\n",
    "    for triangle in range(inicio,inicio+len(vertices),3):\n",
    "\n",
    "        if triangle < (inicio+len(vertices))/2:\n",
    "            R = 0.37 + (triangle - inicio)/20000\n",
    "            G = 0.62 + (triangle - inicio)/20000\n",
    "            B = 0.62 + (triangle - inicio)/20000\n",
    "        else:\n",
    "            R = 0.96\n",
    "            G = 0.87\n",
    "            B = 0.70\n",
    "       \n",
    "        glUniform4f(loc_color, R, G, B, 1.0)\n",
    "        \n",
    "        glDrawArrays(GL_TRIANGLES, triangle, 3)\n",
    "\n",
    "    glUniform4f(loc_color, 1.0, 1.0, 1.0, 1.0) #olho\n",
    "    glUniformMatrix4fv(loc_transform, 1, GL_TRUE, multiplica_matriz(translacao(baiacu_x * (2/3), baiacu_y*0.2, baiacu_z*2),escala(escalar*0.08,escalar*0.08,escalar*0.08)))\n",
    "    glDrawArrays(GL_POLYGON, olho, len(vertices_corpo))\n",
    "\n",
    "    glUniform4f(loc_color, 0.0, 0.0, 0.0, 1.0) #olho-parte-preta\n",
    "    glUniformMatrix4fv(loc_transform, 1, GL_TRUE, multiplica_matriz(translacao(baiacu_x * (2/3), baiacu_y*0.2, baiacu_z*2.03),escala(escalar*0.06,escalar*0.06,escalar*0.06)))\n",
    "    glDrawArrays(GL_POLYGON, olho, len(vertices_corpo))\n",
    "\n",
    "    glUniform4f(loc_color, 1.0, 1.0, 1.0, 1.0) #olho\n",
    "    glUniformMatrix4fv(loc_transform, 1, GL_TRUE, multiplica_matriz(translacao(baiacu_x * (2/3), baiacu_y*0.2, -baiacu_z*2),escala(escalar*0.08,escalar*0.08,escalar*0.08)))\n",
    "    glDrawArrays(GL_POLYGON, olho, len(vertices_corpo))\n",
    "\n",
    "    glUniform4f(loc_color, 0.0, 0.0, 0.0, 1.0) #olho-parte-preta\n",
    "    glUniformMatrix4fv(loc_transform, 1, GL_TRUE, multiplica_matriz(translacao(baiacu_x * (2/3), baiacu_y*0.2, -baiacu_z*2.03),escala(escalar*0.06,escalar*0.06,escalar*0.06)))\n",
    "    glDrawArrays(GL_POLYGON, olho, len(vertices_corpo))"
   ]
  },
  {
   "cell_type": "code",
   "execution_count": 37,
   "metadata": {},
   "outputs": [],
   "source": [
    "def estrela(mat_estrela):\n",
    "    global inicio\n",
    "\n",
    "    glUniformMatrix4fv(loc, 1, GL_TRUE, mat_estrela)\n",
    "    \n",
    "    for triangle in range(inicio,inicio+len(vertices_estrela),3):\n",
    "        if triangle % 2 == 0:\n",
    "            R = 1.0\n",
    "            G = 0.39\n",
    "            B = 0.28\n",
    "        else:\n",
    "            R = 1.0\n",
    "            G = 0.5\n",
    "            B = 0.31\n",
    "       \n",
    "        glUniform4f(loc_color, R, G, B, 1.0)\n",
    "        \n",
    "        glDrawArrays(GL_TRIANGLES, triangle, 3)"
   ]
  },
  {
   "cell_type": "markdown",
   "metadata": {},
   "source": [
    "### Loop que exibe a janela e atualiza os objetos"
   ]
  },
  {
   "cell_type": "code",
   "execution_count": 38,
   "metadata": {
    "scrolled": true
   },
   "outputs": [],
   "source": [
    "import math\n",
    "\n",
    "angulo = 0\n",
    "tam = 0.5\n",
    "theta_x = 0\n",
    "theta_y = 0\n",
    "theta_z = 0\n",
    "vel_x = 0.0\n",
    "vel_y = 0\n",
    "s_x = 0\n",
    "s_y = 0\n",
    "polygon_mode = GL_FILL\n",
    "\n",
    "glEnable(GL_DEPTH_TEST)\n",
    "\n",
    "\n",
    "while not glfw.window_should_close(window):\n",
    "\n",
    "    glfw.poll_events() \n",
    "\n",
    "    #paisagem\n",
    "    \n",
    "    background()\n",
    "\n",
    "    inicio = len(vertice_ceu) + len(vertices_espinhos)\n",
    "\n",
    "    #peixe\n",
    "\n",
    "    peixe()\n",
    "\n",
    "    inicio += len(vertices_cauda)\n",
    "\n",
    "    #estrela\n",
    "\n",
    "    theta_y += angulo #rotacionar em relacao ao eixo x\n",
    "\n",
    "    mat_estrela = multiplica_matriz(translacao(-0.5,-0.73,0), escala(0.2,0.2,0.2))\n",
    "    mat_estrela = multiplica_matriz(mat_estrela,rotacao(0,theta_y,0))\n",
    "\n",
    "    estrela(mat_estrela)\n",
    "\n",
    "    inicio += len(vertices_estrela)\n",
    "\n",
    "    #barco\n",
    "\n",
    "    s_x = vel_x\n",
    "\n",
    "    mat_barco = multiplica_matriz(translacao(s_x,0.53, -0.15),escala(0.3,0.3,0))\n",
    "    \n",
    "    barco(mat_barco)\n",
    "\n",
    "    inicio += len(vertices_barco)\n",
    "\n",
    "    #baiacu\n",
    "\n",
    "    baiacu_x = -0.3\n",
    "    baiacu_y = -0.1\n",
    "    baiacu_z = -0.3\n",
    "\n",
    "    escalar = tam\n",
    "\n",
    "    mat_baiacu = multiplica_matriz(translacao(baiacu_x,baiacu_y,baiacu_z),escala(escalar,escalar,escalar))\n",
    "\n",
    "    cauda = len(vertice_ceu) + len(vertices_espinhos) + len(vertices_corpo)\n",
    "\n",
    "    olho = len(vertice_ceu) + len(vertices_espinhos)\n",
    "\n",
    "    baiacu(mat_baiacu,cauda,olho)\n",
    "    \n",
    "    glPolygonMode(GL_FRONT_AND_BACK, polygon_mode)\n",
    "    \n",
    "    glfw.swap_buffers(window)\n",
    "\n",
    "glfw.terminate()"
   ]
  }
 ],
 "metadata": {
  "finalized": {
   "timestamp": 1583114796072,
   "trusted": true
  },
  "kernelspec": {
   "display_name": "Python 3 (ipykernel)",
   "language": "python",
   "name": "python3"
  },
  "language_info": {
   "codemirror_mode": {
    "name": "ipython",
    "version": 3
   },
   "file_extension": ".py",
   "mimetype": "text/x-python",
   "name": "python",
   "nbconvert_exporter": "python",
   "pygments_lexer": "ipython3",
   "version": "3.12.4"
  }
 },
 "nbformat": 4,
 "nbformat_minor": 4
}
